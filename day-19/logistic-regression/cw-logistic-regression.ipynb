{
 "cells": [
  {
   "cell_type": "code",
   "execution_count": null,
   "id": "d9ac278f-51e2-4808-b17f-0cf09646bc5b",
   "metadata": {},
   "outputs": [],
   "source": [
    "import pandas as pd\n",
    "import numpy as np\n",
    "import matplotlib.pyplot as plt\n",
    "import seaborn as sns"
   ]
  },
  {
   "cell_type": "code",
   "execution_count": null,
   "id": "a2922172-499d-4540-8c7f-5fab7b0442ad",
   "metadata": {},
   "outputs": [],
   "source": [
    "# Fetch the data - data aquisition "
   ]
  },
  {
   "cell_type": "code",
   "execution_count": null,
   "id": "e3579e90-e155-4485-9a5c-996a2502d99a",
   "metadata": {},
   "outputs": [],
   "source": [
    "train = pd.read_csv(\"titanic_train.csv\")\n",
    "train.tail()"
   ]
  },
  {
   "cell_type": "markdown",
   "id": "3c60aadb-1666-4d81-94bf-522e5c9f3c82",
   "metadata": {},
   "source": [
    "### Exploratory Data Analysis"
   ]
  },
  {
   "cell_type": "code",
   "execution_count": null,
   "id": "4f372ce7-abcc-4277-b359-25a587a35bde",
   "metadata": {},
   "outputs": [],
   "source": [
    "#Missing Data"
   ]
  },
  {
   "cell_type": "code",
   "execution_count": null,
   "id": "6dd06109-9391-424c-8927-a0d6b2f3fd07",
   "metadata": {},
   "outputs": [],
   "source": [
    "train.isnull().sum()"
   ]
  },
  {
   "cell_type": "code",
   "execution_count": null,
   "id": "49f3cf92-b066-454f-a403-788e8004e200",
   "metadata": {},
   "outputs": [],
   "source": [
    "sns.heatmap(train.isnull())"
   ]
  },
  {
   "cell_type": "code",
   "execution_count": null,
   "id": "de3294c6-4df7-47cf-b70f-e86199706b8f",
   "metadata": {},
   "outputs": [],
   "source": [
    "sns.countplot(x='Survived', hue='Gender',  data=train, palette='RdBu_r')"
   ]
  },
  {
   "cell_type": "code",
   "execution_count": null,
   "id": "4987afeb-827e-4406-b51b-eb996cc84eca",
   "metadata": {},
   "outputs": [],
   "source": [
    "train.shape"
   ]
  },
  {
   "cell_type": "code",
   "execution_count": null,
   "id": "c89471f4-b1ad-4ccb-84d8-0e2f3ac24eac",
   "metadata": {},
   "outputs": [],
   "source": [
    "# Note this command\n",
    "train.query(\"Survived==1 and Gender=='male'\").index.size"
   ]
  },
  {
   "cell_type": "code",
   "execution_count": null,
   "id": "38c90064-1f45-437e-baa9-dd59a3f83a4f",
   "metadata": {},
   "outputs": [],
   "source": [
    "sns.histplot(train['Age'].dropna(), kde=False, bins=30, color='red')"
   ]
  },
  {
   "cell_type": "code",
   "execution_count": null,
   "id": "de886467-671a-4c84-9cfa-ea941526234f",
   "metadata": {},
   "outputs": [],
   "source": [
    "sns.histplot(data=train, x='Age', hue='Survived', kde=True, fill='True')"
   ]
  },
  {
   "cell_type": "code",
   "execution_count": null,
   "id": "76466fe8-8477-4b3b-b2cc-dc14e3fcefbb",
   "metadata": {},
   "outputs": [],
   "source": [
    "sns.countplot(x='SibSp', data=train)"
   ]
  },
  {
   "cell_type": "code",
   "execution_count": null,
   "id": "f28f899e-07fd-4ecd-b0ae-a283e4466bcc",
   "metadata": {},
   "outputs": [],
   "source": [
    "train['Fare'].hist(bins=50)"
   ]
  },
  {
   "cell_type": "markdown",
   "id": "834eec40-8d53-4fe6-a3e9-279e230ed364",
   "metadata": {},
   "source": [
    "### Data Cleaning"
   ]
  },
  {
   "cell_type": "code",
   "execution_count": null,
   "id": "bb9da814-52e3-4117-afff-eb2554a85666",
   "metadata": {},
   "outputs": [],
   "source": [
    "sns.boxplot(x='Pclass', y='Age', data=train)"
   ]
  },
  {
   "cell_type": "code",
   "execution_count": null,
   "id": "fc7ae354-f91e-4abe-8294-798436c215c6",
   "metadata": {},
   "outputs": [],
   "source": [
    "def replace_age(c):\n",
    "    age = c[0]\n",
    "    pclass = c[1]\n",
    "    if pd.isnull(age):\n",
    "        if pclass == 1:\n",
    "            return 38\n",
    "        elif pclass == 2:\n",
    "            return 29\n",
    "        else:\n",
    "            return 24\n",
    "    else:\n",
    "        return age"
   ]
  },
  {
   "cell_type": "code",
   "execution_count": null,
   "id": "4a1548c0-0561-4952-9fd0-768fe369db29",
   "metadata": {},
   "outputs": [],
   "source": [
    "train['Age'] = train[['Age', 'Pclass']].apply(replace_age, axis=1)"
   ]
  },
  {
   "cell_type": "code",
   "execution_count": null,
   "id": "9d4d93d1-5633-4734-9faa-1af6f7beede2",
   "metadata": {},
   "outputs": [],
   "source": [
    "train.head()"
   ]
  },
  {
   "cell_type": "code",
   "execution_count": null,
   "id": "54c5f050-3a1a-42c0-b281-62649541446b",
   "metadata": {},
   "outputs": [],
   "source": [
    "sns.heatmap(train.isnull())"
   ]
  },
  {
   "cell_type": "code",
   "execution_count": null,
   "id": "56d6f85f-0142-47d3-9c32-da28fc4fd453",
   "metadata": {},
   "outputs": [],
   "source": [
    "train.drop('Cabin', inplace=True, axis=1)"
   ]
  },
  {
   "cell_type": "code",
   "execution_count": null,
   "id": "bb20f041-c135-46cf-90f8-ab737c97f28a",
   "metadata": {},
   "outputs": [],
   "source": [
    "train.head()"
   ]
  },
  {
   "cell_type": "code",
   "execution_count": null,
   "id": "c3e6ae73-aa8e-43f7-a8d3-951ab4c1530d",
   "metadata": {},
   "outputs": [],
   "source": [
    "sns.heatmap(train.isnull())"
   ]
  },
  {
   "cell_type": "markdown",
   "id": "d232f6a5-4d4e-41c3-b3af-8cd8ba5daa45",
   "metadata": {},
   "source": [
    "### Feature Engineering"
   ]
  },
  {
   "cell_type": "code",
   "execution_count": null,
   "id": "2d4f5ae8-9584-482f-ac2d-d292f78fcfc9",
   "metadata": {},
   "outputs": [],
   "source": [
    "train.head(10)"
   ]
  },
  {
   "cell_type": "code",
   "execution_count": null,
   "id": "a1f173f0-0a03-4e6f-81b0-a74b436d9a87",
   "metadata": {},
   "outputs": [],
   "source": [
    "Gender = pd.get_dummies(train['Gender'], drop_first=True)\n",
    "Gender"
   ]
  },
  {
   "cell_type": "code",
   "execution_count": null,
   "id": "c7d69b53-1fe6-4fca-8ddb-01d6f8d9b224",
   "metadata": {},
   "outputs": [],
   "source": [
    "embark = pd.get_dummies(train['Embarked'], drop_first=True)\n",
    "embark"
   ]
  },
  {
   "cell_type": "code",
   "execution_count": null,
   "id": "166dfd77-de8f-4278-816c-dad438d2737c",
   "metadata": {},
   "outputs": [],
   "source": [
    "train.drop(['Gender', 'Embarked', 'Name', 'Ticket'], axis=1, inplace=True)\n",
    "train = pd.concat([train, Gender, embark], axis=1 )"
   ]
  },
  {
   "cell_type": "code",
   "execution_count": null,
   "id": "26ba5611-7f99-44ee-af20-1efffdeeeb6c",
   "metadata": {},
   "outputs": [],
   "source": [
    "train.head()"
   ]
  },
  {
   "cell_type": "code",
   "execution_count": null,
   "id": "1194272f-596b-4d67-ba20-ff6ea3614361",
   "metadata": {},
   "outputs": [],
   "source": [
    "train['male'].dtype"
   ]
  },
  {
   "cell_type": "markdown",
   "id": "f6f85eea-33dd-4162-ba03-9a61e6461af7",
   "metadata": {},
   "source": [
    "### Training the Model"
   ]
  },
  {
   "cell_type": "code",
   "execution_count": null,
   "id": "da38a771-f051-4675-bdfb-4317a5464900",
   "metadata": {},
   "outputs": [],
   "source": [
    "from sklearn.model_selection import train_test_split"
   ]
  },
  {
   "cell_type": "code",
   "execution_count": null,
   "id": "de1f2bac-06bb-4ab3-b441-018cd7044864",
   "metadata": {},
   "outputs": [],
   "source": [
    "\n",
    "X_train, X_test, y_train, y_test = train_test_split(train.drop('Survived',axis=1), \n",
    "                                                    train['Survived'], test_size=0.10, \n",
    "                                                    random_state=101)"
   ]
  },
  {
   "cell_type": "code",
   "execution_count": null,
   "id": "e6a5d340-9828-4252-82ba-ecd1b5b35304",
   "metadata": {},
   "outputs": [],
   "source": [
    "from sklearn.linear_model import LogisticRegression"
   ]
  },
  {
   "cell_type": "code",
   "execution_count": null,
   "id": "513788cf-97bd-49d7-8833-57168b69334e",
   "metadata": {},
   "outputs": [],
   "source": [
    "logmodel = LogisticRegression(solver='liblinear')\n",
    "logmodel.fit(X_train,y_train)"
   ]
  },
  {
   "cell_type": "code",
   "execution_count": null,
   "id": "b2a1a3e5-b219-4293-8afe-21b2e12d0ec3",
   "metadata": {},
   "outputs": [],
   "source": [
    "predictions = logmodel.predict(X_test)"
   ]
  },
  {
   "cell_type": "markdown",
   "id": "0feec651-59de-4df9-a9a4-652d4239579b",
   "metadata": {},
   "source": [
    "### Evaluation"
   ]
  },
  {
   "cell_type": "code",
   "execution_count": null,
   "id": "7fea74a3-042e-439a-93c1-d466579c9a41",
   "metadata": {},
   "outputs": [],
   "source": [
    "from sklearn.metrics import classification_report, confusion_matrix"
   ]
  },
  {
   "cell_type": "code",
   "execution_count": null,
   "id": "b1503d1a-e9d6-41fb-88d4-82e217c91219",
   "metadata": {},
   "outputs": [],
   "source": [
    "print(classification_report(y_test, predictions))"
   ]
  },
  {
   "cell_type": "code",
   "execution_count": null,
   "id": "403a9e0b-f889-4f93-87df-f6b9f0b9b1f1",
   "metadata": {},
   "outputs": [],
   "source": [
    "print(confusion_matrix(y_test, predictions))"
   ]
  },
  {
   "cell_type": "code",
   "execution_count": null,
   "id": "0b817ee8-6c5f-472d-87a6-23a35f3f70a0",
   "metadata": {},
   "outputs": [],
   "source": []
  }
 ],
 "metadata": {
  "kernelspec": {
   "display_name": "base",
   "language": "python",
   "name": "python3"
  },
  "language_info": {
   "codemirror_mode": {
    "name": "ipython",
    "version": 3
   },
   "file_extension": ".py",
   "mimetype": "text/x-python",
   "name": "python",
   "nbconvert_exporter": "python",
   "pygments_lexer": "ipython3",
   "version": "3.12.7"
  }
 },
 "nbformat": 4,
 "nbformat_minor": 5
}
