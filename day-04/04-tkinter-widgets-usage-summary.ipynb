{
 "cells": [
  {
   "cell_type": "markdown",
   "id": "f4b3b3e7",
   "metadata": {},
   "source": [
    "# Tkinter Widget Demonstrations\n",
    "This notebook contains 20 examples of various Tkinter widgets for educational purposes."
   ]
  },
  {
   "cell_type": "markdown",
   "id": "35969703",
   "metadata": {},
   "source": [
    "## 1. Label and Button\n",
    "A simple example using Label and Button widgets."
   ]
  },
  {
   "cell_type": "code",
   "execution_count": 1,
   "id": "677038c7",
   "metadata": {},
   "outputs": [
    {
     "name": "stdout",
     "output_type": "stream",
     "text": [
      "Button clicked\n"
     ]
    }
   ],
   "source": [
    "import tkinter as tk\n",
    "\n",
    "root = tk.Tk()\n",
    "tk.Label(root, text=\"Hello, Tkinter!\").pack()\n",
    "tk.Button(root, text=\"Click Me\", command=lambda: print(\"Button clicked\")).pack()\n",
    "root.mainloop()"
   ]
  },
  {
   "cell_type": "markdown",
   "id": "08c38e82",
   "metadata": {},
   "source": [
    "## 2. Entry Widget\n",
    "Example demonstrating Entry widget to accept user input."
   ]
  },
  {
   "cell_type": "code",
   "execution_count": null,
   "id": "ae10c538",
   "metadata": {},
   "outputs": [],
   "source": [
    "import tkinter as tk\n",
    "\n",
    "def show_entry():\n",
    "    print(entry.get())\n",
    "\n",
    "root = tk.Tk()\n",
    "entry = tk.Entry(root)\n",
    "entry.pack()\n",
    "tk.Button(root, text=\"Submit\", command=show_entry).pack()\n",
    "root.mainloop()"
   ]
  },
  {
   "cell_type": "markdown",
   "id": "4ac6e8ba",
   "metadata": {},
   "source": [
    "## 3. Radiobuttons\n",
    "Select one option using Radiobuttons."
   ]
  },
  {
   "cell_type": "code",
   "execution_count": null,
   "id": "cdff894c",
   "metadata": {},
   "outputs": [],
   "source": [
    "import tkinter as tk\n",
    "\n",
    "def show_selection():\n",
    "    print(var.get())\n",
    "\n",
    "root = tk.Tk()\n",
    "var = tk.StringVar()\n",
    "tk.Radiobutton(root, text=\"Option 1\", variable=var, value=\"1\", command=show_selection).pack()\n",
    "tk.Radiobutton(root, text=\"Option 2\", variable=var, value=\"2\", command=show_selection).pack()\n",
    "root.mainloop()"
   ]
  },
  {
   "cell_type": "markdown",
   "id": "bb5ad76d",
   "metadata": {},
   "source": [
    "## 4. Checkbuttons\n",
    "Select multiple options using Checkbuttons."
   ]
  },
  {
   "cell_type": "code",
   "execution_count": null,
   "id": "7b88cbdf",
   "metadata": {},
   "outputs": [],
   "source": [
    "import tkinter as tk\n",
    "\n",
    "def show_selections():\n",
    "    print(\"Option 1:\", var1.get(), \"Option 2:\", var2.get())\n",
    "\n",
    "root = tk.Tk()\n",
    "var1 = tk.BooleanVar()\n",
    "var2 = tk.BooleanVar()\n",
    "tk.Checkbutton(root, text=\"Option 1\", variable=var1).pack()\n",
    "tk.Checkbutton(root, text=\"Option 2\", variable=var2).pack()\n",
    "tk.Button(root, text=\"Submit\", command=show_selections).pack()\n",
    "root.mainloop()"
   ]
  },
  {
   "cell_type": "markdown",
   "id": "5cfd30a7",
   "metadata": {},
   "source": [
    "## 5. Listbox\n",
    "Example using a Listbox to select items."
   ]
  },
  {
   "cell_type": "code",
   "execution_count": null,
   "id": "3a3020ee",
   "metadata": {},
   "outputs": [],
   "source": [
    "import tkinter as tk\n",
    "\n",
    "def show_selection():\n",
    "    selected = listbox.curselection()\n",
    "    print(\"Selected:\", [listbox.get(i) for i in selected])\n",
    "\n",
    "root = tk.Tk()\n",
    "listbox = tk.Listbox(root, selectmode=tk.MULTIPLE)\n",
    "for item in [\"Item 1\", \"Item 2\", \"Item 3\"]:\n",
    "    listbox.insert(tk.END, item)\n",
    "listbox.pack()\n",
    "tk.Button(root, text=\"Show Selection\", command=show_selection).pack()\n",
    "root.mainloop()"
   ]
  },
  {
   "cell_type": "markdown",
   "id": "8963c684",
   "metadata": {},
   "source": [
    "## 6. Combobox\n",
    "Dropdown using ttk.Combobox."
   ]
  },
  {
   "cell_type": "code",
   "execution_count": null,
   "id": "5c1665d7",
   "metadata": {},
   "outputs": [],
   "source": [
    "import tkinter as tk\n",
    "from tkinter import ttk\n",
    "\n",
    "def show_choice():\n",
    "    print(combo.get())\n",
    "\n",
    "root = tk.Tk()\n",
    "combo = ttk.Combobox(root, values=[\"Apple\", \"Banana\", \"Cherry\"])\n",
    "combo.pack()\n",
    "tk.Button(root, text=\"Select\", command=show_choice).pack()\n",
    "root.mainloop()"
   ]
  },
  {
   "cell_type": "markdown",
   "id": "1369610e",
   "metadata": {},
   "source": [
    "## 7. Text Widget\n",
    "Multiline text input using Text widget."
   ]
  },
  {
   "cell_type": "code",
   "execution_count": null,
   "id": "5f80d404",
   "metadata": {},
   "outputs": [],
   "source": [
    "import tkinter as tk\n",
    "\n",
    "def get_text():\n",
    "    print(text.get(\"1.0\", tk.END))\n",
    "\n",
    "root = tk.Tk()\n",
    "text = tk.Text(root, height=5, width=30)\n",
    "text.pack()\n",
    "tk.Button(root, text=\"Get Text\", command=get_text).pack()\n",
    "root.mainloop()"
   ]
  },
  {
   "cell_type": "markdown",
   "id": "c69646ff",
   "metadata": {},
   "source": [
    "## 8. Scale Widget\n",
    "Slider for numeric input."
   ]
  },
  {
   "cell_type": "code",
   "execution_count": null,
   "id": "47fff192",
   "metadata": {},
   "outputs": [],
   "source": [
    "import tkinter as tk\n",
    "\n",
    "def show_value(val):\n",
    "    print(\"Value:\", val)\n",
    "\n",
    "root = tk.Tk()\n",
    "tk.Scale(root, from_=0, to=100, orient=tk.HORIZONTAL, command=show_value).pack()\n",
    "root.mainloop()"
   ]
  },
  {
   "cell_type": "markdown",
   "id": "af8a5508",
   "metadata": {},
   "source": [
    "## 9. Grid Layout\n",
    "Using grid layout to arrange widgets."
   ]
  },
  {
   "cell_type": "code",
   "execution_count": null,
   "id": "85b2ee0f",
   "metadata": {},
   "outputs": [],
   "source": [
    "import tkinter as tk\n",
    "\n",
    "root = tk.Tk()\n",
    "tk.Label(root, text=\"Username\").grid(row=0, column=0)\n",
    "tk.Entry(root).grid(row=0, column=1)\n",
    "tk.Label(root, text=\"Password\").grid(row=1, column=0)\n",
    "tk.Entry(root, show=\"*\").grid(row=1, column=1)\n",
    "tk.Button(root, text=\"Login\").grid(row=2, columnspan=2)\n",
    "root.mainloop()"
   ]
  },
  {
   "cell_type": "markdown",
   "id": "0db9d1d4",
   "metadata": {},
   "source": [
    "## 10. MessageBox\n",
    "Showing alert using messagebox."
   ]
  },
  {
   "cell_type": "code",
   "execution_count": null,
   "id": "b7410dca",
   "metadata": {},
   "outputs": [],
   "source": [
    "import tkinter as tk\n",
    "from tkinter import messagebox\n",
    "\n",
    "def alert():\n",
    "    messagebox.showinfo(\"Info\", \"This is a message box.\")\n",
    "\n",
    "root = tk.Tk()\n",
    "tk.Button(root, text=\"Show Alert\", command=alert).pack()\n",
    "root.mainloop()"
   ]
  },
  {
   "cell_type": "markdown",
   "id": "4b6303c1",
   "metadata": {},
   "source": [
    "## 11. Menu Bar\n",
    "Creating a simple menu bar."
   ]
  },
  {
   "cell_type": "code",
   "execution_count": null,
   "id": "9d8ab63e",
   "metadata": {},
   "outputs": [],
   "source": [
    "import tkinter as tk\n",
    "\n",
    "def hello():\n",
    "    print(\"Hello!\")\n",
    "\n",
    "root = tk.Tk()\n",
    "menu = tk.Menu(root)\n",
    "root.config(menu=menu)\n",
    "file_menu = tk.Menu(menu)\n",
    "menu.add_cascade(label=\"File\", menu=file_menu)\n",
    "file_menu.add_command(label=\"Say Hello\", command=hello)\n",
    "file_menu.add_separator()\n",
    "file_menu.add_command(label=\"Exit\", command=root.quit)\n",
    "root.mainloop()"
   ]
  },
  {
   "cell_type": "markdown",
   "id": "a2b9490e",
   "metadata": {},
   "source": [
    "## 12. Frame Widget\n",
    "Using frames to organize widgets."
   ]
  },
  {
   "cell_type": "code",
   "execution_count": null,
   "id": "c5b0b907",
   "metadata": {},
   "outputs": [],
   "source": [
    "import tkinter as tk\n",
    "\n",
    "root = tk.Tk()\n",
    "frame1 = tk.Frame(root, bg='red', width=100, height=100)\n",
    "frame2 = tk.Frame(root, bg='blue', width=100, height=100)\n",
    "frame1.pack(side=tk.LEFT)\n",
    "frame2.pack(side=tk.RIGHT)\n",
    "root.mainloop()"
   ]
  },
  {
   "cell_type": "markdown",
   "id": "29f640bb",
   "metadata": {},
   "source": [
    "## 13. PanedWindow\n",
    "Splitting window using PanedWindow."
   ]
  },
  {
   "cell_type": "code",
   "execution_count": null,
   "id": "eac11e33",
   "metadata": {},
   "outputs": [],
   "source": [
    "import tkinter as tk\n",
    "\n",
    "root = tk.Tk()\n",
    "pw = tk.PanedWindow()\n",
    "pw.pack(fill=tk.BOTH, expand=1)\n",
    "left = tk.Label(pw, text=\"Left Pane\")\n",
    "pw.add(left)\n",
    "right = tk.Label(pw, text=\"Right Pane\")\n",
    "pw.add(right)\n",
    "root.mainloop()"
   ]
  },
  {
   "cell_type": "markdown",
   "id": "475a6897",
   "metadata": {},
   "source": [
    "## 14. Canvas\n",
    "Drawing shapes using Canvas."
   ]
  },
  {
   "cell_type": "code",
   "execution_count": null,
   "id": "c033484a",
   "metadata": {},
   "outputs": [],
   "source": [
    "import tkinter as tk\n",
    "\n",
    "root = tk.Tk()\n",
    "canvas = tk.Canvas(root, width=200, height=100)\n",
    "canvas.pack()\n",
    "canvas.create_line(0, 0, 200, 100)\n",
    "canvas.create_rectangle(50, 25, 150, 75, fill=\"blue\")\n",
    "root.mainloop()"
   ]
  },
  {
   "cell_type": "markdown",
   "id": "0623ce7f",
   "metadata": {},
   "source": [
    "## 15. Spinbox\n",
    "Select from a range using Spinbox."
   ]
  },
  {
   "cell_type": "code",
   "execution_count": null,
   "id": "cc8cd19b",
   "metadata": {},
   "outputs": [],
   "source": [
    "import tkinter as tk\n",
    "\n",
    "def show_value():\n",
    "    print(spin.get())\n",
    "\n",
    "root = tk.Tk()\n",
    "spin = tk.Spinbox(root, from_=0, to=10)\n",
    "spin.pack()\n",
    "tk.Button(root, text=\"Show\", command=show_value).pack()\n",
    "root.mainloop()"
   ]
  },
  {
   "cell_type": "markdown",
   "id": "088e447c",
   "metadata": {},
   "source": [
    "## 16. Scrollbar with Text\n",
    "Using Scrollbar with Text widget."
   ]
  },
  {
   "cell_type": "code",
   "execution_count": null,
   "id": "da555c48",
   "metadata": {},
   "outputs": [],
   "source": [
    "import tkinter as tk\n",
    "\n",
    "root = tk.Tk()\n",
    "text = tk.Text(root, wrap=\"none\", height=10, width=40)\n",
    "scroll = tk.Scrollbar(root, command=text.yview)\n",
    "text.configure(yscrollcommand=scroll.set)\n",
    "text.pack(side=tk.LEFT)\n",
    "scroll.pack(side=tk.RIGHT, fill=tk.Y)\n",
    "root.mainloop()"
   ]
  },
  {
   "cell_type": "markdown",
   "id": "b7d80816",
   "metadata": {},
   "source": [
    "## 17. File Dialog\n",
    "Open a file using filedialog."
   ]
  },
  {
   "cell_type": "code",
   "execution_count": null,
   "id": "7cd0ae8a",
   "metadata": {},
   "outputs": [],
   "source": [
    "import tkinter as tk\n",
    "from tkinter import filedialog\n",
    "\n",
    "def open_file():\n",
    "    file = filedialog.askopenfilename()\n",
    "    print(\"Selected file:\", file)\n",
    "\n",
    "root = tk.Tk()\n",
    "tk.Button(root, text=\"Open File\", command=open_file).pack()\n",
    "root.mainloop()"
   ]
  },
  {
   "cell_type": "markdown",
   "id": "e68d9a2f",
   "metadata": {},
   "source": [
    "## 18. Notebook Tabs\n",
    "Using ttk.Notebook for tabbed interface."
   ]
  },
  {
   "cell_type": "code",
   "execution_count": null,
   "id": "0a0153fd",
   "metadata": {},
   "outputs": [],
   "source": [
    "import tkinter as tk\n",
    "from tkinter import ttk\n",
    "\n",
    "root = tk.Tk()\n",
    "notebook = ttk.Notebook(root)\n",
    "tab1 = ttk.Frame(notebook)\n",
    "tab2 = ttk.Frame(notebook)\n",
    "notebook.add(tab1, text=\"Tab 1\")\n",
    "notebook.add(tab2, text=\"Tab 2\")\n",
    "notebook.pack(expand=True, fill='both')\n",
    "tk.Label(tab1, text=\"This is Tab 1\").pack()\n",
    "tk.Label(tab2, text=\"This is Tab 2\").pack()\n",
    "root.mainloop()"
   ]
  },
  {
   "cell_type": "markdown",
   "id": "45abd092",
   "metadata": {},
   "source": [
    "## 19. Toplevel Window\n",
    "Creating a secondary window using Toplevel."
   ]
  },
  {
   "cell_type": "code",
   "execution_count": null,
   "id": "08919efa",
   "metadata": {},
   "outputs": [],
   "source": [
    "import tkinter as tk\n",
    "\n",
    "def open_window():\n",
    "    new_win = tk.Toplevel(root)\n",
    "    tk.Label(new_win, text=\"This is a new window\").pack()\n",
    "\n",
    "root = tk.Tk()\n",
    "tk.Button(root, text=\"Open Window\", command=open_window).pack()\n",
    "root.mainloop()"
   ]
  },
  {
   "cell_type": "markdown",
   "id": "0a0d50bb",
   "metadata": {},
   "source": [
    "## 20. Event Binding\n",
    "Binding a keyboard event to a widget."
   ]
  },
  {
   "cell_type": "code",
   "execution_count": null,
   "id": "140ee312",
   "metadata": {},
   "outputs": [],
   "source": [
    "import tkinter as tk\n",
    "\n",
    "def on_key(event):\n",
    "    print(f\"Key pressed: {event.char}\")\n",
    "\n",
    "root = tk.Tk()\n",
    "entry = tk.Entry(root)\n",
    "entry.bind(\"<Key>\", on_key)\n",
    "entry.pack()\n",
    "root.mainloop()"
   ]
  }
 ],
 "metadata": {
  "kernelspec": {
   "display_name": "base",
   "language": "python",
   "name": "python3"
  },
  "language_info": {
   "name": "python",
   "version": "3.12.7"
  }
 },
 "nbformat": 4,
 "nbformat_minor": 5
}
