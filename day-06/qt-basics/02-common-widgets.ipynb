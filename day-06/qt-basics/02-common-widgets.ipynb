{
 "cells": [
  {
   "cell_type": "markdown",
   "id": "8e74266b",
   "metadata": {},
   "source": [
    "1. QPushButton – A Clickable Button"
   ]
  },
  {
   "cell_type": "code",
   "execution_count": 1,
   "id": "5c1f2284",
   "metadata": {},
   "outputs": [
    {
     "name": "stdout",
     "output_type": "stream",
     "text": [
      "Button was clicked!\n",
      "Button was clicked!\n",
      "Button was clicked!\n"
     ]
    },
    {
     "ename": "SystemExit",
     "evalue": "0",
     "output_type": "error",
     "traceback": [
      "An exception has occurred, use %tb to see the full traceback.\n",
      "\u001b[1;31mSystemExit\u001b[0m\u001b[1;31m:\u001b[0m 0\n"
     ]
    },
    {
     "name": "stderr",
     "output_type": "stream",
     "text": [
      "C:\\Users\\mindf\\AppData\\Roaming\\Python\\Python39\\site-packages\\IPython\\core\\interactiveshell.py:3558: UserWarning: To exit: use 'exit', 'quit', or Ctrl-D.\n",
      "  warn(\"To exit: use 'exit', 'quit', or Ctrl-D.\", stacklevel=1)\n"
     ]
    }
   ],
   "source": [
    "from PyQt5.QtWidgets import QApplication, QWidget, QPushButton\n",
    "import sys\n",
    "\n",
    "def on_click():\n",
    "    print(\"Button was clicked!\")\n",
    "\n",
    "app = QApplication(sys.argv)\n",
    "win = QWidget()\n",
    "win.setWindowTitle(\"QPushButton Example\")\n",
    "\n",
    "btn = QPushButton(\"Click Me\", win)\n",
    "btn.move(50, 50)\n",
    "btn.clicked.connect(on_click)\n",
    "\n",
    "win.resize(200, 150)\n",
    "win.show()\n",
    "sys.exit(app.exec_())\n"
   ]
  },
  {
   "cell_type": "code",
   "execution_count": null,
   "id": "e459afb4",
   "metadata": {},
   "outputs": [
    {
     "name": "stdout",
     "output_type": "stream",
     "text": [
      "Button was clicked!\n",
      "Button was clicked!\n",
      "Button was clicked!\n"
     ]
    }
   ],
   "source": [
    "from PyQt5.QtWidgets import QApplication, QWidget, QPushButton\n",
    "import sys\n",
    "\n",
    "def on_click():\n",
    "    print(\"Button was clicked!\")\n",
    "\n",
    "# Enable Qt event loop integration in Jupyter\n",
    "%gui qt\n",
    "\n",
    "# Avoid creating multiple QApplication instances\n",
    "app = QApplication.instance()\n",
    "if not app:\n",
    "    app = QApplication([])\n",
    "\n",
    "win = QWidget()\n",
    "win.setWindowTitle(\"QPushButton Example\")\n",
    "\n",
    "btn = QPushButton(\"Click Me\", win)\n",
    "btn.move(50, 50)\n",
    "btn.clicked.connect(on_click)\n",
    "\n",
    "win.resize(200, 150)\n",
    "win.show()\n"
   ]
  },
  {
   "cell_type": "markdown",
   "id": "e552606d",
   "metadata": {},
   "source": [
    " 2. QLabel – Displaying and Updating Text"
   ]
  },
  {
   "cell_type": "code",
   "execution_count": 4,
   "id": "88e91e5a",
   "metadata": {},
   "outputs": [],
   "source": [
    "from PyQt5.QtWidgets import QApplication, QWidget, QLabel, QPushButton\n",
    "import sys\n",
    "\n",
    "def change_text():\n",
    "    label.setText(\"Updated Text\")\n",
    "\n",
    "# Enable Qt event loop integration in Jupyter\n",
    "%gui qt\n",
    "\n",
    "# Avoid creating multiple QApplication instances\n",
    "app = QApplication.instance()\n",
    "if not app:\n",
    "    app = QApplication([])\n",
    "    \n",
    "win = QWidget()\n",
    "win.setWindowTitle(\"QLabel Example\")\n",
    "\n",
    "label = QLabel(\"Original Text\", win)\n",
    "label.move(50, 50)\n",
    "\n",
    "btn = QPushButton(\"Update Label\", win)\n",
    "btn.move(50, 90)\n",
    "btn.clicked.connect(change_text)\n",
    "\n",
    "win.resize(250, 150)\n",
    "win.show()\n",
    "#sys.exit(app.exec_())\n"
   ]
  },
  {
   "cell_type": "markdown",
   "id": "1d090cb7",
   "metadata": {},
   "source": [
    "3. QLineEdit – Single Line Text Input"
   ]
  },
  {
   "cell_type": "code",
   "execution_count": null,
   "id": "26e5e92e",
   "metadata": {},
   "outputs": [
    {
     "name": "stdout",
     "output_type": "stream",
     "text": [
      "You entered: helllo\n",
      "You entered: helllo\n"
     ]
    }
   ],
   "source": [
    "from PyQt5.QtWidgets import QApplication, QWidget, QLineEdit, QPushButton\n",
    "import sys\n",
    "\n",
    "def show_input():\n",
    "    print(\"You entered:\", input_box.text())\n",
    "\n",
    "\n",
    "# Enable Qt event loop integration in Jupyter\n",
    "%gui qt\n",
    "\n",
    "# Avoid creating multiple QApplication instances\n",
    "app = QApplication.instance()\n",
    "if not app:\n",
    "    app = QApplication([])\n",
    "   \n",
    "win = QWidget()\n",
    "win.setWindowTitle(\"QLineEdit Example\")\n",
    "\n",
    "input_box = QLineEdit(win)\n",
    "input_box.move(50, 50)\n",
    "\n",
    "btn = QPushButton(\"Submit\", win)\n",
    "btn.move(50, 90)\n",
    "btn.clicked.connect(show_input)\n",
    "\n",
    "win.resize(250, 150)\n",
    "win.show()\n",
    "#sys.exit(app.exec_())\n"
   ]
  },
  {
   "cell_type": "markdown",
   "id": "60873b40",
   "metadata": {},
   "source": [
    "4. QTextEdit – Multi-Line Text Area"
   ]
  },
  {
   "cell_type": "code",
   "execution_count": 6,
   "id": "cdd2c407",
   "metadata": {},
   "outputs": [
    {
     "name": "stdout",
     "output_type": "stream",
     "text": [
      "Text area content: fgEnter some text here...\n"
     ]
    }
   ],
   "source": [
    "from PyQt5.QtWidgets import QApplication, QWidget, QTextEdit, QPushButton\n",
    "import sys\n",
    "\n",
    "def print_text():\n",
    "    print(\"Text area content:\", text_edit.toPlainText())\n",
    "\n",
    "\n",
    "# Enable Qt event loop integration in Jupyter\n",
    "%gui qt\n",
    "\n",
    "# Avoid creating multiple QApplication instances\n",
    "app = QApplication.instance()\n",
    "if not app:\n",
    "    app = QApplication([])\n",
    "   \n",
    "win = QWidget()\n",
    "win.setWindowTitle(\"QTextEdit Example\")\n",
    "\n",
    "text_edit = QTextEdit(win)\n",
    "text_edit.setPlainText(\"Enter some text here...\")\n",
    "text_edit.resize(200, 100)\n",
    "text_edit.move(20, 20)\n",
    "\n",
    "btn = QPushButton(\"Read Text\", win)\n",
    "btn.move(20, 130)\n",
    "btn.clicked.connect(print_text)\n",
    "\n",
    "win.resize(250, 180)\n",
    "win.show()\n",
    "#sys.exit(app.exec_())\n"
   ]
  },
  {
   "cell_type": "markdown",
   "id": "48ba4029",
   "metadata": {},
   "source": [
    "5. QCheckBox – Boolean Toggle"
   ]
  },
  {
   "cell_type": "code",
   "execution_count": 7,
   "id": "9d503486",
   "metadata": {},
   "outputs": [],
   "source": [
    "from PyQt5.QtWidgets import QApplication, QWidget, QCheckBox, QLabel\n",
    "import sys\n",
    "\n",
    "def checkbox_changed():\n",
    "    label.setText(\"Checked\" if checkbox.isChecked() else \"Unchecked\")\n",
    "\n",
    "\n",
    "# Enable Qt event loop integration in Jupyter\n",
    "%gui qt\n",
    "\n",
    "# Avoid creating multiple QApplication instances\n",
    "app = QApplication.instance()\n",
    "if not app:\n",
    "    app = QApplication([])\n",
    "   \n",
    "win = QWidget()\n",
    "win.setWindowTitle(\"QCheckBox Example\")\n",
    "\n",
    "checkbox = QCheckBox(\"I agree\", win)\n",
    "checkbox.move(50, 50)\n",
    "checkbox.stateChanged.connect(checkbox_changed)\n",
    "\n",
    "label = QLabel(\"Unchecked\", win)\n",
    "label.move(50, 80)\n",
    "\n",
    "win.resize(200, 130)\n",
    "win.show()\n",
    "#sys.exit(app.exec_())\n"
   ]
  },
  {
   "cell_type": "markdown",
   "id": "1e0c2a47",
   "metadata": {},
   "source": [
    "6. QRadioButton – Single Selection from Group"
   ]
  },
  {
   "cell_type": "code",
   "execution_count": null,
   "id": "637f0afb",
   "metadata": {},
   "outputs": [],
   "source": [
    "from PyQt5.QtWidgets import QApplication, QWidget, QRadioButton, QLabel\n",
    "import sys\n",
    "\n",
    "def update_label():\n",
    "    if radio1.isChecked():\n",
    "        label.setText(\"Option 1 selected\")\n",
    "    elif radio2.isChecked():\n",
    "        label.setText(\"Option 2 selected\")\n",
    "\n",
    "\n",
    "# Enable Qt event loop integration in Jupyter\n",
    "%gui qt\n",
    "\n",
    "# Avoid creating multiple QApplication instances\n",
    "app = QApplication.instance()\n",
    "if not app:\n",
    "    app = QApplication([])\n",
    "   \n",
    "win = QWidget()\n",
    "win.setWindowTitle(\"QRadioButton Example\")\n",
    "\n",
    "radio1 = QRadioButton(\"Option 1\", win)\n",
    "radio1.move(50, 50)\n",
    "radio1.toggled.connect(update_label)\n",
    "\n",
    "radio2 = QRadioButton(\"Option 2\", win)\n",
    "radio2.move(50, 80)\n",
    "radio2.toggled.connect(update_label)\n",
    "\n",
    "label = QLabel(\"Select an option\", win)\n",
    "label.move(50, 110)\n",
    "\n",
    "win.resize(250, 160)\n",
    "win.show()\n",
    "#sys.exit(app.exec_())\n"
   ]
  },
  {
   "cell_type": "markdown",
   "id": "68812789",
   "metadata": {},
   "source": [
    "7. QComboBox – Drop-Down Menu"
   ]
  },
  {
   "cell_type": "code",
   "execution_count": null,
   "id": "c96a442b",
   "metadata": {},
   "outputs": [],
   "source": [
    "from PyQt5.QtWidgets import QApplication, QWidget, QComboBox, QLabel\n",
    "import sys\n",
    "\n",
    "def selection_changed():\n",
    "    label.setText(\"Selected: \" + combo.currentText())\n",
    "\n",
    "\n",
    "# Enable Qt event loop integration in Jupyter\n",
    "%gui qt\n",
    "\n",
    "# Avoid creating multiple QApplication instances\n",
    "app = QApplication.instance()\n",
    "if not app:\n",
    "    app = QApplication([])\n",
    "   \n",
    "win = QWidget()\n",
    "win.setWindowTitle(\"QComboBox Example\")\n",
    "\n",
    "combo = QComboBox(win)\n",
    "combo.addItems([\"Apple\", \"Banana\", \"Cherry\"])\n",
    "combo.move(50, 50)\n",
    "combo.currentTextChanged.connect(selection_changed)\n",
    "\n",
    "label = QLabel(\"Selected: None\", win)\n",
    "label.move(50, 90)\n",
    "\n",
    "win.resize(250, 150)\n",
    "win.show()\n",
    "#sys.exit(app.exec_())\n"
   ]
  },
  {
   "cell_type": "markdown",
   "id": "cdee95c7",
   "metadata": {},
   "source": [
    "8. QListWidget – Select From List"
   ]
  },
  {
   "cell_type": "code",
   "execution_count": null,
   "id": "5852fe37",
   "metadata": {},
   "outputs": [],
   "source": [
    "from PyQt5.QtWidgets import QApplication, QWidget, QListWidget, QLabel\n",
    "import sys\n",
    "\n",
    "def item_selected():\n",
    "    label.setText(\"Selected: \" + list_widget.currentItem().text())\n",
    "\n",
    "\n",
    "# Enable Qt event loop integration in Jupyter\n",
    "%gui qt\n",
    "\n",
    "# Avoid creating multiple QApplication instances\n",
    "app = QApplication.instance()\n",
    "if not app:\n",
    "    app = QApplication([])\n",
    "   \n",
    "win = QWidget()\n",
    "win.setWindowTitle(\"QListWidget Example\")\n",
    "\n",
    "list_widget = QListWidget(win)\n",
    "list_widget.addItems([\"Red\", \"Green\", \"Blue\"])\n",
    "list_widget.move(50, 20)\n",
    "list_widget.itemClicked.connect(item_selected)\n",
    "\n",
    "label = QLabel(\"Selected: None\", win)\n",
    "label.move(50, 100)\n",
    "\n",
    "win.resize(250, 150)\n",
    "win.show()\n",
    "#sys.exit(app.exec_())\n"
   ]
  },
  {
   "cell_type": "markdown",
   "id": "40f2e0a8",
   "metadata": {},
   "source": [
    "9. QSpinBox – Integer Input"
   ]
  },
  {
   "cell_type": "code",
   "execution_count": null,
   "id": "05591f30",
   "metadata": {},
   "outputs": [],
   "source": [
    "from PyQt5.QtWidgets import QApplication, QWidget, QSpinBox, QLabel\n",
    "import sys\n",
    "\n",
    "def value_changed():\n",
    "    label.setText(\"Value: \" + str(spin.value()))\n",
    "\n",
    "\n",
    "# Enable Qt event loop integration in Jupyter\n",
    "%gui qt\n",
    "\n",
    "# Avoid creating multiple QApplication instances\n",
    "app = QApplication.instance()\n",
    "if not app:\n",
    "    app = QApplication([])\n",
    "   \n",
    "win = QWidget()\n",
    "win.setWindowTitle(\"QSpinBox Example\")\n",
    "\n",
    "spin = QSpinBox(win)\n",
    "spin.setRange(0, 100)\n",
    "spin.move(50, 50)\n",
    "spin.valueChanged.connect(value_changed)\n",
    "\n",
    "label = QLabel(\"Value: 0\", win)\n",
    "label.move(50, 90)\n",
    "\n",
    "win.resize(200, 130)\n",
    "win.show()\n",
    "#sys.exit(app.exec_())\n"
   ]
  },
  {
   "cell_type": "code",
   "execution_count": null,
   "id": "f57c39ff",
   "metadata": {},
   "outputs": [],
   "source": []
  },
  {
   "cell_type": "markdown",
   "id": "a8e53fd3",
   "metadata": {},
   "source": [
    "10. QSlider – Drag-Based Numeric Input"
   ]
  },
  {
   "cell_type": "code",
   "execution_count": null,
   "id": "a8ad44f0",
   "metadata": {},
   "outputs": [],
   "source": [
    "from PyQt5.QtWidgets import QApplication, QWidget, QSlider, QLabel\n",
    "from PyQt5.QtCore import Qt\n",
    "import sys\n",
    "\n",
    "def slider_moved():\n",
    "    label.setText(\"Value: \" + str(slider.value()))\n",
    "\n",
    "\n",
    "# Enable Qt event loop integration in Jupyter\n",
    "%gui qt\n",
    "\n",
    "# Avoid creating multiple QApplication instances\n",
    "app = QApplication.instance()\n",
    "if not app:\n",
    "    app = QApplication([])\n",
    "   \n",
    "win = QWidget()\n",
    "win.setWindowTitle(\"QSlider Example\")\n",
    "\n",
    "slider = QSlider(Qt.Horizontal, win)\n",
    "slider.setMinimum(0)\n",
    "slider.setMaximum(100)\n",
    "slider.setValue(25)\n",
    "slider.move(50, 50)\n",
    "slider.valueChanged.connect(slider_moved)\n",
    "\n",
    "label = QLabel(\"Value: 25\", win)\n",
    "label.move(50, 90)\n",
    "\n",
    "win.resize(250, 130)\n",
    "win.show()\n",
    "#sys.exit(app.exec_())\n"
   ]
  },
  {
   "cell_type": "markdown",
   "id": "142e6ed4",
   "metadata": {},
   "source": [
    "### Signal and Slot"
   ]
  },
  {
   "cell_type": "markdown",
   "id": "34cb0263",
   "metadata": {},
   "source": [
    "A signal is emitted when a particular event occurs.\n",
    "\n",
    "Example signals:\n",
    "\n",
    "clicked() – emitted by QPushButton when clicked.\n",
    "\n",
    "textChanged() – emitted by QLineEdit when the text changes.\n",
    "\n",
    "valueChanged(int) – emitted by QSlider, QSpinBox, etc., when the value changes.\n",
    "\n",
    "A slot is a function (or method) that is called in response to a signal.\n",
    "\n",
    "You connect them like:\n",
    "\n",
    "widget.signal.connect(slot_function)\n"
   ]
  },
  {
   "cell_type": "code",
   "execution_count": null,
   "id": "855c63be",
   "metadata": {},
   "outputs": [],
   "source": [
    "from PyQt5.QtWidgets import QApplication, QWidget, QPushButton, QLabel\n",
    "import sys\n",
    "\n",
    "def on_button_click():\n",
    "    label.setText(\"Button clicked!\")\n",
    "\n",
    "\n",
    "# Enable Qt event loop integration in Jupyter\n",
    "%gui qt\n",
    "\n",
    "# Avoid creating multiple QApplication instances\n",
    "app = QApplication.instance()\n",
    "if not app:\n",
    "    app = QApplication([])\n",
    "   \n",
    "win = QWidget()\n",
    "win.setWindowTitle(\"Signal & Slot Example\")\n",
    "\n",
    "btn = QPushButton(\"Click Me\", win)\n",
    "btn.move(50, 50)\n",
    "\n",
    "label = QLabel(\"Waiting...\", win)\n",
    "label.move(50, 90)\n",
    "\n",
    "# Connect the signal (clicked) to the slot (on_button_click)\n",
    "btn.clicked.connect(on_button_click)\n",
    "\n",
    "win.resize(200, 150)\n",
    "win.show()\n",
    "#sys.exit(app.exec_())\n"
   ]
  },
  {
   "cell_type": "markdown",
   "id": "d007c310",
   "metadata": {},
   "source": [
    "### Layouts"
   ]
  },
  {
   "cell_type": "markdown",
   "id": "6b1ed598",
   "metadata": {},
   "source": [
    "1. QVBoxLayout – Vertical Box Layout"
   ]
  },
  {
   "cell_type": "code",
   "execution_count": 8,
   "id": "3c3029c1",
   "metadata": {},
   "outputs": [],
   "source": [
    "from PyQt5.QtWidgets import QApplication, QWidget, QVBoxLayout, QPushButton\n",
    "import sys\n",
    "\n",
    "\n",
    "# Enable Qt event loop integration in Jupyter\n",
    "%gui qt\n",
    "\n",
    "# Avoid creating multiple QApplication instances\n",
    "app = QApplication.instance()\n",
    "if not app:\n",
    "    app = QApplication([])\n",
    "   \n",
    "win = QWidget()\n",
    "win.setWindowTitle(\"QVBoxLayout Example\")\n",
    "\n",
    "layout = QVBoxLayout()\n",
    "\n",
    "layout.addWidget(QPushButton(\"Button 1\"))\n",
    "layout.addWidget(QPushButton(\"Button 2\"))\n",
    "layout.addWidget(QPushButton(\"Button 3\"))\n",
    "\n",
    "win.setLayout(layout)\n",
    "win.show()\n",
    "#sys.exit(app.exec_())\n"
   ]
  },
  {
   "cell_type": "markdown",
   "id": "273a187d",
   "metadata": {},
   "source": [
    "2. QHBoxLayout – Horizontal Box Layout"
   ]
  },
  {
   "cell_type": "code",
   "execution_count": 9,
   "id": "1238af2e",
   "metadata": {},
   "outputs": [],
   "source": [
    "from PyQt5.QtWidgets import QApplication, QWidget, QHBoxLayout, QPushButton\n",
    "import sys\n",
    "\n",
    "\n",
    "# Enable Qt event loop integration in Jupyter\n",
    "%gui qt\n",
    "\n",
    "# Avoid creating multiple QApplication instances\n",
    "app = QApplication.instance()\n",
    "if not app:\n",
    "    app = QApplication([])\n",
    "   \n",
    "win = QWidget()\n",
    "win.setWindowTitle(\"QHBoxLayout Example\")\n",
    "\n",
    "layout = QHBoxLayout()\n",
    "\n",
    "layout.addWidget(QPushButton(\"Left\"))\n",
    "layout.addWidget(QPushButton(\"Center\"))\n",
    "layout.addWidget(QPushButton(\"Right\"))\n",
    "\n",
    "win.setLayout(layout)\n",
    "win.show()\n",
    "#sys.exit(app.exec_())\n"
   ]
  },
  {
   "cell_type": "markdown",
   "id": "3d2d6225",
   "metadata": {},
   "source": [
    "3. QGridLayout – Grid-Based Layout"
   ]
  },
  {
   "cell_type": "code",
   "execution_count": 10,
   "id": "41504b63",
   "metadata": {},
   "outputs": [],
   "source": [
    "from PyQt5.QtWidgets import QApplication, QWidget, QGridLayout, QPushButton\n",
    "import sys\n",
    "\n",
    "\n",
    "# Enable Qt event loop integration in Jupyter\n",
    "%gui qt\n",
    "\n",
    "# Avoid creating multiple QApplication instances\n",
    "app = QApplication.instance()\n",
    "if not app:\n",
    "    app = QApplication([])\n",
    "   \n",
    "win = QWidget()\n",
    "win.setWindowTitle(\"QGridLayout Example\")\n",
    "\n",
    "layout = QGridLayout()\n",
    "\n",
    "layout.addWidget(QPushButton(\"Top-Left\"), 0, 0)\n",
    "layout.addWidget(QPushButton(\"Top-Right\"), 0, 1)\n",
    "layout.addWidget(QPushButton(\"Bottom-Left\"), 1, 0)\n",
    "layout.addWidget(QPushButton(\"Bottom-Right\"), 1, 1)\n",
    "\n",
    "win.setLayout(layout)\n",
    "win.show()\n",
    "#sys.exit(app.exec_())\n"
   ]
  },
  {
   "cell_type": "markdown",
   "id": "db654be7",
   "metadata": {},
   "source": [
    "4. QFormLayout – For Forms (Label + Field)"
   ]
  },
  {
   "cell_type": "code",
   "execution_count": 11,
   "id": "f98e2362",
   "metadata": {},
   "outputs": [],
   "source": [
    "from PyQt5.QtWidgets import QApplication, QWidget, QFormLayout, QLabel, QLineEdit\n",
    "import sys\n",
    "\n",
    "\n",
    "# Enable Qt event loop integration in Jupyter\n",
    "%gui qt\n",
    "\n",
    "# Avoid creating multiple QApplication instances\n",
    "app = QApplication.instance()\n",
    "if not app:\n",
    "    app = QApplication([])\n",
    "   \n",
    "win = QWidget()\n",
    "win.setWindowTitle(\"QFormLayout Example\")\n",
    "\n",
    "layout = QFormLayout()\n",
    "\n",
    "layout.addRow(\"Name:\", QLineEdit())\n",
    "layout.addRow(\"Email:\", QLineEdit())\n",
    "layout.addRow(\"Password:\", QLineEdit())\n",
    "\n",
    "win.setLayout(layout)\n",
    "win.show()\n",
    "#sys.exit(app.exec_())\n"
   ]
  },
  {
   "cell_type": "markdown",
   "id": "cb2ad9ff",
   "metadata": {},
   "source": [
    "##### Layout Nesting"
   ]
  },
  {
   "cell_type": "code",
   "execution_count": null,
   "id": "6e7ce535",
   "metadata": {},
   "outputs": [],
   "source": [
    "main_layout = QVBoxLayout()\n",
    "row_layout = QHBoxLayout()\n",
    "row_layout.addWidget(btn1)\n",
    "row_layout.addWidget(btn2)\n",
    "main_layout.addLayout(row_layout)\n"
   ]
  },
  {
   "cell_type": "markdown",
   "id": "614c8c15",
   "metadata": {},
   "source": [
    "### Layout Switcher"
   ]
  },
  {
   "cell_type": "code",
   "execution_count": 12,
   "id": "57e0953f",
   "metadata": {},
   "outputs": [],
   "source": [
    "import sys\n",
    "from PyQt5.QtWidgets import (\n",
    "    QApplication, QWidget, QVBoxLayout, QHBoxLayout, QGridLayout,\n",
    "    QFormLayout, QPushButton, QLineEdit, QLabel, QComboBox, QStackedWidget\n",
    ")\n",
    "\n",
    "class LayoutDemo(QWidget):\n",
    "    def __init__(self):\n",
    "        super().__init__()\n",
    "        self.setWindowTitle(\"PyQt Layout Switcher\")\n",
    "        self.resize(400, 300)\n",
    "\n",
    "        # Top selector layout\n",
    "        main_layout = QVBoxLayout()\n",
    "        layout_selector = QComboBox()\n",
    "        layout_selector.addItems([\"VBoxLayout\", \"HBoxLayout\", \"GridLayout\", \"FormLayout\"])\n",
    "        layout_selector.currentIndexChanged.connect(self.switch_layout)\n",
    "\n",
    "        main_layout.addWidget(QLabel(\"Choose Layout:\"))\n",
    "        main_layout.addWidget(layout_selector)\n",
    "\n",
    "        # Stacked layout area\n",
    "        self.stacked_widget = QStackedWidget()\n",
    "        self.stacked_widget.addWidget(self.create_vbox_layout())\n",
    "        self.stacked_widget.addWidget(self.create_hbox_layout())\n",
    "        self.stacked_widget.addWidget(self.create_grid_layout())\n",
    "        self.stacked_widget.addWidget(self.create_form_layout())\n",
    "\n",
    "        main_layout.addWidget(self.stacked_widget)\n",
    "        self.setLayout(main_layout)\n",
    "\n",
    "    def switch_layout(self, index):\n",
    "        self.stacked_widget.setCurrentIndex(index)\n",
    "\n",
    "    def create_vbox_layout(self):\n",
    "        widget = QWidget()\n",
    "        layout = QVBoxLayout()\n",
    "        layout.addWidget(QPushButton(\"Button 1\"))\n",
    "        layout.addWidget(QPushButton(\"Button 2\"))\n",
    "        layout.addWidget(QPushButton(\"Button 3\"))\n",
    "        widget.setLayout(layout)\n",
    "        return widget\n",
    "\n",
    "    def create_hbox_layout(self):\n",
    "        widget = QWidget()\n",
    "        layout = QHBoxLayout()\n",
    "        layout.addWidget(QPushButton(\"Left\"))\n",
    "        layout.addWidget(QPushButton(\"Center\"))\n",
    "        layout.addWidget(QPushButton(\"Right\"))\n",
    "        widget.setLayout(layout)\n",
    "        return widget\n",
    "\n",
    "    def create_grid_layout(self):\n",
    "        widget = QWidget()\n",
    "        layout = QGridLayout()\n",
    "        layout.addWidget(QPushButton(\"Top-Left\"), 0, 0)\n",
    "        layout.addWidget(QPushButton(\"Top-Right\"), 0, 1)\n",
    "        layout.addWidget(QPushButton(\"Bottom-Left\"), 1, 0)\n",
    "        layout.addWidget(QPushButton(\"Bottom-Right\"), 1, 1)\n",
    "        widget.setLayout(layout)\n",
    "        return widget\n",
    "\n",
    "    def create_form_layout(self):\n",
    "        widget = QWidget()\n",
    "        layout = QFormLayout()\n",
    "        layout.addRow(\"Name:\", QLineEdit())\n",
    "        layout.addRow(\"Email:\", QLineEdit())\n",
    "        layout.addRow(\"Password:\", QLineEdit())\n",
    "        widget.setLayout(layout)\n",
    "        return widget\n",
    "\n",
    "# Run the app\n",
    "if __name__ == \"__main__\":\n",
    "    \n",
    "    # Enable Qt event loop integration in Jupyter\n",
    "    %gui qt\n",
    "\n",
    "    # Avoid creating multiple QApplication instances\n",
    "    app = QApplication.instance()\n",
    "    if not app:\n",
    "        app = QApplication([])\n",
    "    \n",
    "    window = LayoutDemo()\n",
    "    window.show()\n",
    "    #sys.exit(app.exec_())\n"
   ]
  },
  {
   "cell_type": "code",
   "execution_count": null,
   "id": "58eb63ca",
   "metadata": {},
   "outputs": [],
   "source": []
  }
 ],
 "metadata": {
  "kernelspec": {
   "display_name": "Python 3",
   "language": "python",
   "name": "python3"
  },
  "language_info": {
   "codemirror_mode": {
    "name": "ipython",
    "version": 3
   },
   "file_extension": ".py",
   "mimetype": "text/x-python",
   "name": "python",
   "nbconvert_exporter": "python",
   "pygments_lexer": "ipython3",
   "version": "3.9.0"
  }
 },
 "nbformat": 4,
 "nbformat_minor": 5
}
